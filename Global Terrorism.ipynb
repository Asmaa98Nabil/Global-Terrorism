{
 "cells": [
  {
   "cell_type": "markdown",
   "id": "1402329e",
   "metadata": {},
   "source": [
    "# Global Terrorism Analysis"
   ]
  },
  {
   "cell_type": "markdown",
   "id": "ba7013d9",
   "metadata": {},
   "source": [
    "import required libraries"
   ]
  },
  {
   "cell_type": "code",
   "execution_count": null,
   "id": "669f449a",
   "metadata": {},
   "outputs": [],
   "source": [
    "import pandas as pd\n",
    "import numpy as np\n",
    "import plotly.express as px\n",
    "import plotly.io as pio\n",
    "import matplotlib.pyplot as plt\n",
    "from dash import Dash, dcc, html,Input, Output\n",
    "import plotly.express as px\n",
    "import dash_bootstrap_components as dbc\n",
    "import plotly.graph_objects as go\n",
    "import warnings\n",
    "warnings.filterwarnings('ignore')\n",
    "from dash.dependencies import Input,Output\n",
    "import random\n",
    "import textwrap\n",
    "import datetime as dt \n",
    "import dash_core_components as dcc\n",
    "import dash_html_components as html\n",
    "from dash.dependencies import Input, Output\n",
    "import plotly.graph_objs as go"
   ]
  },
  {
   "cell_type": "markdown",
   "id": "e137bcab",
   "metadata": {},
   "source": [
    "loading data"
   ]
  },
  {
   "cell_type": "code",
   "execution_count": null,
   "id": "a9646858",
   "metadata": {},
   "outputs": [],
   "source": [
    "path=path='globalterrorismdb_0718dist.csv'\n",
    "\n",
    "df=pd.read_csv(path, encoding='latin-1')"
   ]
  },
  {
   "cell_type": "markdown",
   "id": "12f98ac6",
   "metadata": {},
   "source": [
    "information about data to see if it contains Null values or columns that is not necessary in our DataFrame"
   ]
  },
  {
   "cell_type": "code",
   "execution_count": null,
   "id": "77c6a743",
   "metadata": {},
   "outputs": [],
   "source": [
    "#df.info"
   ]
  },
  {
   "cell_type": "markdown",
   "id": "f092688a",
   "metadata": {},
   "source": [
    "Select specific features that we need in our Exploration"
   ]
  },
  {
   "cell_type": "code",
   "execution_count": null,
   "id": "bd2d6c4f",
   "metadata": {},
   "outputs": [],
   "source": [
    "data=['iyear','country_txt','region','region_txt','provstate','city','latitude','longitude','specificity','vicinity','country','nkill','nwound','success','attacktype1_txt','targtype1_txt','target1','gname']"
   ]
  },
  {
   "cell_type": "code",
   "execution_count": null,
   "id": "4ec45cf8",
   "metadata": {},
   "outputs": [],
   "source": [
    "Terr=pd.DataFrame(df[data])\n",
    "Terr"
   ]
  },
  {
   "cell_type": "code",
   "execution_count": null,
   "id": "32f5f3b2",
   "metadata": {},
   "outputs": [],
   "source": [
    "#attqck for each region_txt per year\n",
    "#most terorist group\n",
    "#number of attacks for each country \n",
    "#most frequent attack type\n",
    "#number of kills and wound for each country \n"
   ]
  },
  {
   "cell_type": "markdown",
   "id": "913178bc",
   "metadata": {},
   "source": [
    "Information about Data after selection"
   ]
  },
  {
   "cell_type": "code",
   "execution_count": null,
   "id": "ef49dd77",
   "metadata": {},
   "outputs": [],
   "source": [
    "Terr.info()"
   ]
  },
  {
   "cell_type": "code",
   "execution_count": null,
   "id": "b4d33418",
   "metadata": {},
   "outputs": [],
   "source": [
    "null=Terr.isnull().sum()\n",
    "#null"
   ]
  },
  {
   "cell_type": "code",
   "execution_count": null,
   "id": "295c75d9",
   "metadata": {},
   "outputs": [],
   "source": [
    "Terr.dropna(subset=['city'],inplace=True)"
   ]
  },
  {
   "cell_type": "markdown",
   "id": "1a2b1b1d",
   "metadata": {},
   "source": [
    "Total number of attacks that happened in each region/year"
   ]
  },
  {
   "cell_type": "code",
   "execution_count": null,
   "id": "d7b537e2",
   "metadata": {},
   "outputs": [],
   "source": [
    "c=pd.crosstab(Terr.iyear,Terr.region_txt)\n",
    "a=c.index\n",
    "f=c.columns\n"
   ]
  },
  {
   "cell_type": "code",
   "execution_count": null,
   "id": "9fad1d84",
   "metadata": {},
   "outputs": [],
   "source": [
    "area_fig = px.area(c,x=a,y=f,title='Number of attacks happened in each region/Year',template='plotly_dark',width=1000)\n",
    "area_fig.update_xaxes(title_text='Year')\n",
    "area_fig.update_yaxes(title_text='Number of attacks')\n",
    "area_fig.show()"
   ]
  },
  {
   "cell_type": "markdown",
   "id": "3e05fb51",
   "metadata": {},
   "source": [
    "Show countries affected by attacks on a Map"
   ]
  },
  {
   "cell_type": "code",
   "execution_count": null,
   "id": "b27040ed",
   "metadata": {},
   "outputs": [],
   "source": [
    "token=\"pk.eyJ1IjoiMWF5YWVsc2F3eSIsImEiOiJjbDJqajdrYjAwZnd2M2tzMzVlbWs2a2FuIn0.-kxYRdvm2y-8KOXgo1uUsQ\"\n",
    "#df =Terr[Terr['country_txt'].isin(countries)&Terr['iyear'].between(years[0], years[1])]\n",
    "fig= px.scatter_mapbox(Terr, lat=\"latitude\", lon=\"longitude\", hover_name=\"country_txt\",\n",
    "                        color_discrete_sequence=[\"red\"], zoom=1)\n",
    "fig.update_layout(mapbox_style=\"dark\", mapbox_accesstoken=token)\n",
    "fig.update_layout(margin={\"r\":0,\"t\":0,\"l\":0,\"b\":0})\n",
    "fig.show()"
   ]
  },
  {
   "cell_type": "markdown",
   "id": "f787a7ce",
   "metadata": {},
   "source": [
    "Number of dead people and wounded result from each attack in the most affected countries"
   ]
  },
  {
   "cell_type": "code",
   "execution_count": null,
   "id": "813e777e",
   "metadata": {},
   "outputs": [],
   "source": [
    "#df_top_countries = Terr[Terr['iyear'].between(years[0], years[1])]\n",
    "kill_country=Terr.groupby([\"country_txt\"],axis=0)['nkill'].sum()\n",
    "kill_country=kill_country.sort_values(ascending=False)\n",
    "kill_country=kill_country.head(10)\n",
    "    ########wound#######\n",
    "wound_country=Terr.groupby([\"country_txt\"],axis=0)['nwound'].sum()\n",
    "wound_country=wound_country.sort_values(ascending=False)\n",
    "wound_country=wound_country.head(10)\n",
    "fig = go.Figure()\n",
    "fig.add_trace(go.Bar(x=kill_country.head(10).index,\n",
    "                         y=kill_country.head(10).values,\n",
    "                         marker_color='crimson',\n",
    "                         orientation='v',\n",
    "                         name='kill'))\n",
    "fig.add_trace(go.Bar(x=wound_country.head(10).index,\n",
    "                         y=wound_country.head(10).values,\n",
    "                         marker_color='lightslategrey',\n",
    "                         orientation='v',\n",
    "                        name='wound'))\n",
    "fig.update_layout(template='plotly_dark',\n",
    "                     title=\" Number of dead people & wounded around in top countries\",\n",
    "                     title_x=0.5,              \n",
    "                     title_y=0.9,\n",
    "                     yaxis_title=\"Numof dead people&wounded /each country\",\n",
    "                     xaxis_title=\"Country\")\n",
    "fig.show()\n"
   ]
  },
  {
   "cell_type": "markdown",
   "id": "b4966237",
   "metadata": {},
   "source": [
    "Most affected destinations"
   ]
  },
  {
   "cell_type": "code",
   "execution_count": null,
   "id": "001f190b",
   "metadata": {},
   "outputs": [],
   "source": [
    "attack=Terr['targtype1_txt'].unique()\n",
    "TargetAttack=Terr['targtype1_txt'].value_counts().sort_values(ascending=True)\n"
   ]
  },
  {
   "cell_type": "code",
   "execution_count": null,
   "id": "15cfce0b",
   "metadata": {},
   "outputs": [],
   "source": [
    "#pio.templates\n",
    "fig = go.Figure()\n",
    "fig.add_trace(go.Bar(x=attack,y=TargetAttack.sort_values(ascending=False),\n",
    "                base=0,\n",
    "                orientation='v',\n",
    "                marker_color='crimson',\n",
    "                name='kill/attackType'\n",
    "                    \n",
    "                     \n",
    "                ))\n",
    "fig.update_layout(template='plotly_dark',\n",
    "    title=\"Most Affected Destinations\",              \n",
    "    title_x=0.5,              \n",
    "    title_y=0.9,\n",
    "    xaxis_title=\"Attack destinations\",\n",
    "    yaxis_title=\"Number of Attacks\",\n",
    "    legend_title=\"Legend Title\")\n",
    "\n",
    "fig.show()"
   ]
  },
  {
   "cell_type": "markdown",
   "id": "3429295b",
   "metadata": {},
   "source": [
    "The most dangerous terrorist groups around the world "
   ]
  },
  {
   "cell_type": "code",
   "execution_count": null,
   "id": "e5d14140",
   "metadata": {},
   "outputs": [],
   "source": [
    "df_top_countries=Terr[['gname','nkill']].groupby(['gname'],axis=0).sum().drop('Unknown').sort_values('nkill',ascending=False).head(10)\n",
    "df_top_countries=df_top_countries.reset_index()\n",
    "fig = go.Figure()\n",
    "fig.add_trace(go.Bar(x=df_top_countries['gname'].str[:15],y=df_top_countries['nkill'],\n",
    "                    base=0,\n",
    "                    orientation='v',\n",
    "                    marker_color='crimson',\n",
    "                    name='Target Attack',\n",
    "                    hovertext=c\n",
    "    \n",
    "            \n",
    "                    ))\n",
    "fig.update_layout(template='plotly_dark',\n",
    "                         title=\"The Most Dangerous Terrorist Groups \",\n",
    "                         title_x=0.5,              \n",
    "                         title_y=0.9,\n",
    "                         yaxis_title=\"Number of attacks\",\n",
    "                         xaxis_title=\"Terrorist Group\",)\n",
    "\n",
    "fig.show()"
   ]
  },
  {
   "cell_type": "markdown",
   "id": "0694d5cd",
   "metadata": {},
   "source": [
    "# Dashboard "
   ]
  },
  {
   "cell_type": "code",
   "execution_count": null,
   "id": "919f0b1a",
   "metadata": {},
   "outputs": [],
   "source": [
    "app=Dash(external_stylesheets=(['https://codepen.io/chriddyp/pen/bWLwgP.css',dbc.themes.DARKLY]))\n",
    "app.layout = html.Div([\n",
    "    html.Br(),html.Br(),\n",
    "    html.H3('Global Terrorism',style={'color':'red','textAlign':'center','marginTop':5,'fontSize':60,'border':3}),\n",
    "    html.Hr(),\n",
    "    \n",
    "    dbc.Card([\n",
    "        dbc.CardBody([\n",
    "            html.H4(className=\"card-title\",id=\"country_year\",style={'fontSize':25}),\n",
    "            html.P(className=\"card-text\",id=\"card_text2\"),\n",
    "        ])\n",
    "    ],\n",
    "        style={'display': 'inline-block',\n",
    "               'width': '12.5%',\n",
    "               'text-align': 'center',\n",
    "               'color':'#00C5CD',\n",
    "               'margin-left':'42%',\n",
    "               'margin-right':'25%',\n",
    "               'margin-bottom':'1%',\n",
    "               'backgroundColor':'dark',\n",
    "               'font-weight': 'bold',\n",
    "               'font-family': 'Arial'\n",
    "              },\n",
    "        outline=True),\n",
    "      dbc.Row(\n",
    "                [ dbc.Col( dbc.Card(\n",
    "                 dbc.CardBody(\n",
    "                    [\n",
    "                        html.H5(\"Attacks\", className=\"card-title\",style={'fontSize': 18,\"color\": \"black\",'font-weight': 'bold'}),\n",
    "                        html.P(id='nAttack',style={\"color\": \"black\",'font-weight': 'bold','fontSize': 20}),\n",
    "            \n",
    "                            ]\n",
    "                        )\n",
    "                    ,color=\"warning\")),\n",
    "\n",
    "                 dbc.Col(dbc.Card(\n",
    "                        dbc.CardBody(\n",
    "                            [\n",
    "                                html.H5(\"Death\", className=\"card-title\", style={'fontSize': 18,\"color\": \"black\",'font-weight': 'bold'}),\n",
    "                                html.P(id=\"kill\" , style={\"color\": \"black\",'font-weight': 'bold','fontSize': 20}),\n",
    "                            ]\n",
    "                   \n",
    "                        )\n",
    "                         , color=\"danger\")),\n",
    "                    dbc.Col(dbc.Card(\n",
    "                        dbc.CardBody(\n",
    "                            [\n",
    "                                html.H5(\"Injured\", className=\"card-title\", style={'fontSize': 18,\"color\": \"black\",'font-weight': 'bold'}),\n",
    "                                html.P(id=\"nwound\", style={\"color\": \"black\",'font-weight': 'bold','fontSize': 20}\n",
    "                                    \n",
    "                                ),\n",
    "                            ]\n",
    "                        )\n",
    "                    , color=\"success\"))\n",
    "                        ]\n",
    "                       \n",
    "    ,style={'textAlign':'center','margin-left':'10%','margin-right': '10%','fontSize':70,'border':3}),\n",
    "    html.Br(), html.Br(),\n",
    "   dcc.Graph(id='map_world', config={'displayModeBar': False},style={'margin-left':'10%','margin-right': '10%'}),\n",
    "    html.Div([\n",
    "    dcc.Dropdown(id='countries',\n",
    "                 multi=True,\n",
    "                 value=['Iraq'],\n",
    "                 placeholder='Select Countries',\n",
    "                 options=[{'label': c, 'value': c}\n",
    "                          for c in sorted(Terr['country_txt'].unique())],style={'backgroundColor': 'black', 'color': 'black'})\n",
    "        \n",
    "],style={'margin-left':'25%','width': '50%','backgroundColor': 'black', 'color': 'white','marginTop':'2%'}),\n",
    "     html.Div([\n",
    "        dcc.RangeSlider(id='years',\n",
    "                        min=1970,\n",
    "                        max=2016,\n",
    "                        dots=False,\n",
    "                        value=[2010, 2016],\n",
    "                        marks={str(yr): str(yr) for yr in range(1970, 2017,5)}),\n",
    "        ], style={'margin-left':'25%','width': '50%','display': 'inline-block','className':'justify-content-center','background-color': '#000000','marginTop':'2%'}),      \n",
    "    html.Br(), html.Br(),  \n",
    "    html.Content('The most affected destinations & Top countries affected by attacks', style={'margin-left': '25%','font-size': 25}),\n",
    "    html.Br(), html.Br(),\n",
    "    html.Div([\n",
    "        html.Div([\n",
    "            dcc.Graph(id='targetAttack',\n",
    "                      figure={'layout': {'margin': {'r': 10, 't': 50}}},\n",
    "                      config={'displayModeBar': False})\n",
    "        ], style={'width': '47%', 'display': 'inline-block','margin-left':'1%'}),\n",
    "        \n",
    "        html.Div([\n",
    "            dcc.Graph(id='top_countries_deaths',\n",
    "                      config={'displayModeBar': False},\n",
    "                      figure={'layout': {'margin': {'l': 10, 't': 50}}})\n",
    "\n",
    "        ], style={'width': '49%', 'display': 'inline-block', 'float': 'right','margin-right':'1%'})\n",
    "    ]),\n",
    "      html.Content('The most affected Regions & the most dangerous terrorist groups', style={'margin-left': '25%', 'font-size': 25}),\n",
    "      html.Br(), html.Br(),\n",
    "     html.Div([\n",
    "        html.Div([\n",
    "            dcc.Graph(id='Attack_Type',\n",
    "                      figure=area_fig,\n",
    "                      config={'displayModeBar': False})\n",
    "        ], style={'width': '49%', 'display': 'inline-block','margin-left':'1%'}),\n",
    "        \n",
    "        html.Div([\n",
    "            dcc.Graph(id='attack_gname',\n",
    "                      config={'displayModeBar': False},\n",
    "                      figure={'layout': {'margin': {'l': 10, 't': 50}}})\n",
    "\n",
    "        ], style={'width': '47%', 'display': 'inline-block', 'float': 'right','margin-right': '1%'})\n",
    "    ]),\n",
    "    \n",
    "    ######################\n",
    "   html.Br(), html.Br(),\n",
    "   html.Div([\n",
    "        html.Div([\n",
    "            dcc.Graph(id='attack_region_year',\n",
    "                      figure=area_fig,\n",
    "                      config={'displayModeBar': False})\n",
    "        ], style={'margin-left':'2%','margin-right': '2%','margin-bottom': '2%','background-color':'#000000'}),\n",
    "        \n",
    "    ]),\n",
    "    \n",
    "   \n",
    "], style={'background-color': '#000000', 'font-family': 'Palatino'})"
   ]
  },
  {
   "cell_type": "markdown",
   "id": "15f41bc9",
   "metadata": {},
   "source": [
    "Summarizing in  BAN's:\n",
    "\n",
    "1-)Selected country from the drop down list.\n",
    "\n",
    "2-)Number of attacks that happened in this country.\n",
    "\n",
    "3-)Number of dead people in that country.\n",
    "\n",
    "4-)Number of wounded in that country"
   ]
  },
  {
   "cell_type": "code",
   "execution_count": null,
   "id": "9b2472f0",
   "metadata": {},
   "outputs": [],
   "source": [
    "@app.callback(\n",
    "    Output('country_year','children'),\n",
    "    Input('countries','value'),\n",
    "\n",
    "    \n",
    ")\n",
    "def update_cards_main(country_select):\n",
    "    \n",
    "      while country_select :\n",
    "             c1=country_select.pop()\n",
    "             output_1= \"\".join(c1)\n",
    "             return output_1\n",
    "\n",
    "\n",
    "@app.callback(\n",
    " Output('nAttack','children'),\n",
    " Input('countries','value'),\n",
    ")\n",
    "def attack_card(country):\n",
    "    while country:\n",
    "        c=country.pop()\n",
    "        df_top_countries=Terr[Terr['country_txt']==c]\n",
    "        attack=df_top_countries['country_txt'].value_counts()\n",
    "        attack_country=attack.values[0]\n",
    "        output_a=\"\".join(str(attack_country).split('.')[0]) \n",
    "        return output_a\n",
    "\n",
    "  \n",
    "\n",
    "@app.callback(\n",
    " Output('kill','children'),\n",
    " Input('countries','value'),\n",
    ")\n",
    "def kill_card(country_1):\n",
    "    \n",
    "        #Co=Terr['country_txt'].unique().tolist()\n",
    "        while country_1:\n",
    "             c=country_1.pop()\n",
    "             df_top_countries=Terr[Terr['country_txt']==c]\n",
    "             kill_country=df_top_countries.groupby([\"country_txt\"])['nkill'].sum()\n",
    "             kill=kill_country.values[0]\n",
    "             output_k=\"\".join(str(kill).split('.')[0]) \n",
    "             return output_k \n",
    "            \n",
    "@app.callback(\n",
    " Output('nwound','children'),\n",
    " Input('countries','value'),\n",
    ")\n",
    "def wound_card(country_2):\n",
    "\n",
    "       while country_2:\n",
    "             c=country_2.pop()\n",
    "             df_top_countries=Terr[Terr['country_txt']==c]\n",
    "             wound_country=df_top_countries.groupby([\"country_txt\"])['nwound'].sum()\n",
    "             wound=wound_country.values[0]\n",
    "             output_w=\"\".join(str(wound).split('.')[0]) \n",
    "             return output_w\n",
    "\n",
    "      \n",
    "      \n",
    "       "
   ]
  },
  {
   "cell_type": "markdown",
   "id": "f83ce804",
   "metadata": {},
   "source": [
    "Show the distribution of countries on a Map "
   ]
  },
  {
   "cell_type": "code",
   "execution_count": null,
   "id": "2b4a49be",
   "metadata": {},
   "outputs": [],
   "source": [
    "@app.callback(Output('map_world', 'figure'),\n",
    "             [Input('countries','value'), Input('years', 'value')])\n",
    "def countries_on_map(countries,years):\n",
    "        token=\"pk.eyJ1IjoiMWF5YWVsc2F3eSIsImEiOiJjbDJqajdrYjAwZnd2M2tzMzVlbWs2a2FuIn0.-kxYRdvm2y-8KOXgo1uUsQ\"\n",
    "        df =Terr[Terr['country_txt'].isin(countries)&Terr['iyear'].between(years[0], years[1])]\n",
    "        fig = fig = px.scatter_mapbox(df, lat=\"latitude\", lon=\"longitude\", hover_name=\"country_txt\",\n",
    "                        color_discrete_sequence=[\"red\"], zoom=1)\n",
    "        fig.update_layout(mapbox_style=\"dark\", mapbox_accesstoken=token)\n",
    "        fig.update_layout(margin={\"r\":0,\"t\":0,\"l\":0,\"b\":0})\n",
    "        fig.show()\n",
    "\n",
    "        return fig\n",
    "\n"
   ]
  },
  {
   "cell_type": "markdown",
   "id": "50b29dae",
   "metadata": {},
   "source": [
    "The most affected destinations result from  number of attacks on it."
   ]
  },
  {
   "cell_type": "code",
   "execution_count": null,
   "id": "c0ff7496",
   "metadata": {},
   "outputs": [],
   "source": [
    "\n",
    "@app.callback(Output('targetAttack', 'figure'),\n",
    "             [Input('years', 'value')])\n",
    "def target_Attacks(years):\n",
    "    df_top_countries = Terr[Terr['iyear'].between(years[0], years[1])]\n",
    "    attack=df_top_countries['targtype1_txt'].value_counts().sort_values(ascending=False)\n",
    "\n",
    "    fig = go.Figure()\n",
    "    fig.add_trace(go.Bar(x=attack.head(10).index.str[:15],y=attack.head(10).values,\n",
    "                base=0,\n",
    "                orientation='v',\n",
    "                marker_color='crimson',\n",
    "                name='Target Attack'       \n",
    "                ))\n",
    "    fig.update_layout(template='plotly_dark',\n",
    "                     title=\"Most Affected Destinations\",              \n",
    "                     title_x=0.5,              \n",
    "                     title_y=0.9,\n",
    "                     xaxis_title=\"Attack destinations\",\n",
    "                     yaxis_title=\"Number of Attacks\")\n",
    "    \n",
    "\n",
    "    return  fig"
   ]
  },
  {
   "cell_type": "markdown",
   "id": "b64a3864",
   "metadata": {},
   "source": [
    "Top ten countries with it's number of dead people & wounded around the world"
   ]
  },
  {
   "cell_type": "code",
   "execution_count": null,
   "id": "c0594644",
   "metadata": {},
   "outputs": [],
   "source": [
    "@app.callback(Output('top_countries_deaths', 'figure'),\n",
    "             Input('years', 'value'))\n",
    "def top_countries_kill_wound(years):\n",
    "    df_top_countries = Terr[Terr['iyear'].between(years[0], years[1])]\n",
    "    kill_country=df_top_countries.groupby([\"country_txt\"],axis=0)['nkill'].sum()\n",
    "    kill_country=kill_country.sort_values(ascending=False)\n",
    "    kill_country=kill_country.head(10)\n",
    "    ########wound#######\n",
    "    wound_country=df_top_countries.groupby([\"country_txt\"],axis=0)['nwound'].sum()\n",
    "    wound_country=wound_country.sort_values(ascending=False)\n",
    "    wound_country=wound_country.head(10)\n",
    "    fig = go.Figure()\n",
    "    fig.add_trace(go.Bar(x=kill_country.head(10).index,\n",
    "                         y=kill_country.head(10).values,\n",
    "                         marker_color='crimson',\n",
    "                         orientation='v',\n",
    "                         name='kill'))\n",
    "    fig.add_trace(go.Bar(x=wound_country.head(10).index,\n",
    "                         y=wound_country.head(10).values,\n",
    "                         marker_color='lightslategrey',\n",
    "                         orientation='v',\n",
    "                        name='wound'))\n",
    "    fig.update_layout(template='plotly_dark',\n",
    "                     title=\"Num of Dead people & Injured in Top countries\",\n",
    "                     title_x=0.5,              \n",
    "                     title_y=0.9,\n",
    "                     yaxis_title=\"Num of Dead people & Injured /each country\",\n",
    "                     xaxis_title=\"Country\",)\n",
    "    return fig\n",
    "\n",
    "\n",
    "\n"
   ]
  },
  {
   "cell_type": "code",
   "execution_count": null,
   "id": "289a7813",
   "metadata": {},
   "outputs": [],
   "source": []
  },
  {
   "cell_type": "markdown",
   "id": "92056b9e",
   "metadata": {},
   "source": [
    " Attack Type"
   ]
  },
  {
   "cell_type": "code",
   "execution_count": null,
   "id": "a3b2333e",
   "metadata": {},
   "outputs": [],
   "source": [
    "@app.callback(Output('Attack_Type','figure'),\n",
    "              Input('countries','value'))\n",
    "              #Input('years','value'))\n",
    "def Attacks_Type(country):\n",
    "   while country:\n",
    "        c=country.pop()\n",
    "        df_top_countries=Terr[Terr['country_txt']==c]\n",
    "        df_top_countries=df_top_countries[['attacktype1_txt','nkill']].groupby(['attacktype1_txt'],axis=0).sum().sort_values('nkill',ascending=False).head(10)\n",
    "        df_top_countries=df_top_countries.reset_index()\n",
    "        fig = go.Figure()\n",
    "        fig.add_trace(go.Bar(x=df_top_countries['attacktype1_txt'].str[:15],y=df_top_countries['nkill'],\n",
    "                    base=0,\n",
    "                    orientation='v',\n",
    "                    marker_color='crimson',\n",
    "                    name='Target Attack',\n",
    "                    hovertext=c\n",
    "    \n",
    "            \n",
    "                    ))\n",
    "        fig.update_layout(template='plotly_dark',\n",
    "                         title=\"The Most Dangerous Attackes Types \",\n",
    "                         title_x=0.5,              \n",
    "                         title_y=0.9,\n",
    "                         yaxis_title=\"Frequent Attackes types /country \",\n",
    "                         xaxis_title=\"Attack Type\",)\n",
    "\n",
    "        return  fig"
   ]
  },
  {
   "cell_type": "markdown",
   "id": "e4378138",
   "metadata": {},
   "source": [
    "The most dangerous terrorist groups "
   ]
  },
  {
   "cell_type": "code",
   "execution_count": null,
   "id": "2737b8f3",
   "metadata": {},
   "outputs": [],
   "source": [
    "@app.callback(Output('attack_gname','figure'),\n",
    "              Input('countries','value'))\n",
    "              #Input('years','value'))\n",
    "def gname_Attacks(country):\n",
    "   while country:\n",
    "        c=country.pop()\n",
    "        df_top_countries=Terr[Terr['country_txt']==c]\n",
    "        df_top_countries=df_top_countries[['gname','nkill']].groupby(['gname'],axis=0).sum().drop('Unknown').sort_values('nkill',ascending=False).head(10)\n",
    "        df_top_countries=df_top_countries.reset_index()\n",
    "        fig = go.Figure()\n",
    "        fig.add_trace(go.Bar(x=df_top_countries['gname'].str[:15],y=df_top_countries['nkill'],\n",
    "                    base=0,\n",
    "                    orientation='v',\n",
    "                    marker_color='crimson',\n",
    "                    name='Target Attack',\n",
    "                    hovertext=c\n",
    "    \n",
    "            \n",
    "                    ))\n",
    "        fig.update_layout(template='plotly_dark',\n",
    "                         title=\"The Most Dangerous Terrorist Groups \",\n",
    "                         title_x=0.5,              \n",
    "                         title_y=0.9,\n",
    "                         yaxis_title=\"Number of Attacks\",\n",
    "                         xaxis_title=\"Terrorist Group\",)\n",
    "\n",
    "        return  fig"
   ]
  },
  {
   "cell_type": "markdown",
   "id": "5d7ab52b",
   "metadata": {},
   "source": [
    "# show dashboard"
   ]
  },
  {
   "cell_type": "code",
   "execution_count": null,
   "id": "35fb1676",
   "metadata": {},
   "outputs": [],
   "source": [
    "app.run_server()"
   ]
  },
  {
   "cell_type": "code",
   "execution_count": null,
   "id": "da336016",
   "metadata": {},
   "outputs": [],
   "source": []
  },
  {
   "cell_type": "code",
   "execution_count": null,
   "id": "237d233c",
   "metadata": {},
   "outputs": [],
   "source": []
  },
  {
   "cell_type": "code",
   "execution_count": null,
   "id": "f8577890",
   "metadata": {},
   "outputs": [],
   "source": []
  },
  {
   "cell_type": "code",
   "execution_count": null,
   "id": "6cd0f380",
   "metadata": {},
   "outputs": [],
   "source": []
  },
  {
   "cell_type": "code",
   "execution_count": null,
   "id": "c3e4db6b",
   "metadata": {},
   "outputs": [],
   "source": []
  },
  {
   "cell_type": "code",
   "execution_count": null,
   "id": "b31c20ed",
   "metadata": {},
   "outputs": [],
   "source": []
  }
 ],
 "metadata": {
  "kernelspec": {
   "display_name": "Python 3",
   "language": "python",
   "name": "python3"
  },
  "language_info": {
   "codemirror_mode": {
    "name": "ipython",
    "version": 3
   },
   "file_extension": ".py",
   "mimetype": "text/x-python",
   "name": "python",
   "nbconvert_exporter": "python",
   "pygments_lexer": "ipython3",
   "version": "3.8.8"
  }
 },
 "nbformat": 4,
 "nbformat_minor": 5
}
